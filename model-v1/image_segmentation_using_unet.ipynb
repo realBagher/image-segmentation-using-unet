{
  "nbformat": 4,
  "nbformat_minor": 0,
  "metadata": {
    "colab": {
      "provenance": [],
      "authorship_tag": "ABX9TyOz8JURCsCJWUgota5rnPLy",
      "include_colab_link": true
    },
    "kernelspec": {
      "name": "python3",
      "display_name": "Python 3"
    },
    "language_info": {
      "name": "python"
    }
  },
  "cells": [
    {
      "cell_type": "markdown",
      "metadata": {
        "id": "view-in-github",
        "colab_type": "text"
      },
      "source": [
        "<a href=\"https://colab.research.google.com/github/realBagher/image-segmentation-using-unet/blob/main/model-v1/image_segmentation_using_unet.ipynb\" target=\"_parent\"><img src=\"https://colab.research.google.com/assets/colab-badge.svg\" alt=\"Open In Colab\"/></a>"
      ]
    },
    {
      "cell_type": "code",
      "execution_count": null,
      "metadata": {
        "id": "ajR-ZIV6LDbL"
      },
      "outputs": [],
      "source": [
        "import tensorflow as tf "
      ]
    },
    {
      "cell_type": "markdown",
      "source": [
        "##Note preprocessing "
      ],
      "metadata": {
        "id": "klqe1C6CLPhE"
      }
    },
    {
      "cell_type": "code",
      "source": [
        "IMAGE_WIDTH = 124\n",
        "IMAGE_HEIGHT = 124\n",
        "IMAGE_CHANNEL = 3"
      ],
      "metadata": {
        "id": "XKzelJ9bLdKz"
      },
      "execution_count": null,
      "outputs": []
    },
    {
      "cell_type": "code",
      "source": [
        "#Model \n",
        "\n",
        "inputs = tf.keras.layers.Input((IMAGE_WIDTH,IMAGE_HEIGHT,IMAGE_CHANNEL))\n"
      ],
      "metadata": {
        "id": "l4taVNrHLd0a"
      },
      "execution_count": null,
      "outputs": []
    }
  ]
}