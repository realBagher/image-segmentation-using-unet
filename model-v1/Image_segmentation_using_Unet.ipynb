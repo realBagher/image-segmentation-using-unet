{
  "nbformat": 4,
  "nbformat_minor": 0,
  "metadata": {
    "colab": {
      "provenance": [],
      "collapsed_sections": [],
      "authorship_tag": "ABX9TyNqlq/oHhcAbhge5RD3UWIa",
      "include_colab_link": true
    },
    "kernelspec": {
      "name": "python3",
      "display_name": "Python 3"
    },
    "language_info": {
      "name": "python"
    }
  },
  "cells": [
    {
      "cell_type": "markdown",
      "metadata": {
        "id": "view-in-github",
        "colab_type": "text"
      },
      "source": [
        "<a href=\"https://colab.research.google.com/github/realBagher/image-segmentation-using-unet/blob/main/model-v1/Image_segmentation_using_Unet.ipynb\" target=\"_parent\"><img src=\"https://colab.research.google.com/assets/colab-badge.svg\" alt=\"Open In Colab\"/></a>"
      ]
    },
    {
      "cell_type": "code",
      "execution_count": 1,
      "metadata": {
        "id": "ajR-ZIV6LDbL"
      },
      "outputs": [],
      "source": [
        "import tensorflow as tf \n",
        "from tensorflow.keras.layers import Dropout,Conv2D,MaxPooling2D,Conv2DTranspose,concatenate"
      ]
    },
    {
      "cell_type": "markdown",
      "source": [
        "##Note preprocessing "
      ],
      "metadata": {
        "id": "klqe1C6CLPhE"
      }
    },
    {
      "cell_type": "code",
      "source": [
        "IMAGE_WIDTH = 124\n",
        "IMAGE_HEIGHT = 124\n",
        "IMAGE_CHANNEL = 3"
      ],
      "metadata": {
        "id": "XKzelJ9bLdKz"
      },
      "execution_count": 3,
      "outputs": []
    },
    {
      "cell_type": "code",
      "source": [
        "from keras.models import Model\n",
        "from keras.layers import Input, Conv2D, MaxPooling2D, UpSampling2D, concatenate, Conv2DTranspose, BatchNormalization, Dropout, Lambda\n",
        "from keras import backend as K\n",
        "\n",
        "\n",
        "\n",
        "\n",
        "\n",
        "def model(n_classes=4, IMG_HEIGHT=256, IMG_WIDTH=256, IMG_CHANNELS=1):\n",
        "\n",
        "    inputs = Input((IMG_HEIGHT, IMG_WIDTH, IMG_CHANNELS))\n",
        "    s = Lambda(lambda x: x / 255)(inputs)   \n",
        "  \n",
        "\n",
        "    #Contraction \n",
        "    c1 = Conv2D(16, (3, 3), activation='relu', kernel_initializer='he_normal', padding='same')(s)\n",
        "    c1 = Dropout(0.2)(c1)  # Original 0.1\n",
        "    c1 = Conv2D(16, (3, 3), activation='relu', kernel_initializer='he_normal', padding='same')(c1)\n",
        "    p1 = MaxPooling2D((2, 2))(c1)\n",
        "    \n",
        "    c2 = Conv2D(32, (3, 3), activation='relu', kernel_initializer='he_normal', padding='same')(p1)\n",
        "    c2 = Dropout(0.2)(c2)  # Original 0.1\n",
        "    c2 = Conv2D(32, (3, 3), activation='relu', kernel_initializer='he_normal', padding='same')(c2)\n",
        "    p2 = MaxPooling2D((2, 2))(c2)\n",
        "     \n",
        "    c3 = Conv2D(64, (3, 3), activation='relu', kernel_initializer='he_normal', padding='same')(p2)\n",
        "    c3 = Dropout(0.2)(c3)\n",
        "    c3 = Conv2D(64, (3, 3), activation='relu', kernel_initializer='he_normal', padding='same')(c3)\n",
        "    p3 = MaxPooling2D((2, 2))(c3)\n",
        "     \n",
        "    c4 = Conv2D(128, (3, 3), activation='relu', kernel_initializer='he_normal', padding='same')(p3)\n",
        "    c4 = Dropout(0.2)(c4)\n",
        "    c4 = Conv2D(128, (3, 3), activation='relu', kernel_initializer='he_normal', padding='same')(c4)\n",
        "    p4 = MaxPooling2D(pool_size=(2, 2))(c4)\n",
        "     \n",
        "    c5 = Conv2D(256, (3, 3), activation='relu', kernel_initializer='he_normal', padding='same')(p4)\n",
        "    c5 = Dropout(0.3)(c5)\n",
        "    c5 = Conv2D(256, (3, 3), activation='relu', kernel_initializer='he_normal', padding='same')(c5)\n",
        "    \n",
        "    #Expansion\n",
        "    u6 = Conv2DTranspose(128, (2, 2), strides=(2, 2), padding='same')(c5)\n",
        "    u6 = concatenate([u6, c4])\n",
        "    c6 = Conv2D(128, (3, 3), activation='relu', kernel_initializer='he_normal', padding='same')(u6)\n",
        "    c6 = Dropout(0.2)(c6)\n",
        "    c6 = Conv2D(128, (3, 3), activation='relu', kernel_initializer='he_normal', padding='same')(c6)\n",
        "     \n",
        "    u7 = Conv2DTranspose(64, (2, 2), strides=(2, 2), padding='same')(c6)\n",
        "    u7 = concatenate([u7, c3])\n",
        "    c7 = Conv2D(64, (3, 3), activation='relu', kernel_initializer='he_normal', padding='same')(u7)\n",
        "    c7 = Dropout(0.2)(c7)\n",
        "    c7 = Conv2D(64, (3, 3), activation='relu', kernel_initializer='he_normal', padding='same')(c7)\n",
        "     \n",
        "    u8 = Conv2DTranspose(32, (2, 2), strides=(2, 2), padding='same')(c7)\n",
        "    u8 = concatenate([u8, c2])\n",
        "    c8 = Conv2D(32, (3, 3), activation='relu', kernel_initializer='he_normal', padding='same')(u8)\n",
        "    c8 = Dropout(0.2)(c8)  # Original 0.1\n",
        "    c8 = Conv2D(32, (3, 3), activation='relu', kernel_initializer='he_normal', padding='same')(c8)\n",
        "     \n",
        "    u9 = Conv2DTranspose(16, (2, 2), strides=(2, 2), padding='same')(c8)\n",
        "    u9 = concatenate([u9, c1], axis=3)\n",
        "    c9 = Conv2D(16, (3, 3), activation='relu', kernel_initializer='he_normal', padding='same')(u9)\n",
        "    c9 = Dropout(0.2)(c9)  # Original 0.1\n",
        "    c9 = Conv2D(16, (3, 3), activation='relu', kernel_initializer='he_normal', padding='same')(c9)\n",
        "     \n",
        "    outputs = Conv2D(n_classes, (1, 1), activation='softmax')(c9)\n",
        "     \n",
        "    model = Model(inputs=[inputs], outputs=[outputs])\n",
        "    \n",
        "\n",
        "    model.compile(optimizer='adam', loss='binary_crossentropy', metrics=['accuracy'])\n",
        "    \n",
        "    model.summary()\n",
        "    \n",
        "    return "
      ],
      "metadata": {
        "id": "JY_PE3SmqE31"
      },
      "execution_count": 32,
      "outputs": []
    },
    {
      "cell_type": "code",
      "source": [
        "model()"
      ],
      "metadata": {
        "colab": {
          "base_uri": "https://localhost:8080/"
        },
        "id": "6L4S8is_rQIe",
        "outputId": "4ec22d5e-d703-4faa-950c-957511d0564f"
      },
      "execution_count": 33,
      "outputs": [
        {
          "output_type": "stream",
          "name": "stdout",
          "text": [
            "Model: \"model_6\"\n",
            "__________________________________________________________________________________________________\n",
            " Layer (type)                   Output Shape         Param #     Connected to                     \n",
            "==================================================================================================\n",
            " input_12 (InputLayer)          [(None, 256, 256, 1  0           []                               \n",
            "                                )]                                                                \n",
            "                                                                                                  \n",
            " lambda_8 (Lambda)              (None, 256, 256, 1)  0           ['input_12[0][0]']               \n",
            "                                                                                                  \n",
            " conv2d_164 (Conv2D)            (None, 256, 256, 16  160         ['lambda_8[0][0]']               \n",
            "                                )                                                                 \n",
            "                                                                                                  \n",
            " dropout_79 (Dropout)           (None, 256, 256, 16  0           ['conv2d_164[0][0]']             \n",
            "                                )                                                                 \n",
            "                                                                                                  \n",
            " conv2d_165 (Conv2D)            (None, 256, 256, 16  2320        ['dropout_79[0][0]']             \n",
            "                                )                                                                 \n",
            "                                                                                                  \n",
            " max_pooling2d_44 (MaxPooling2D  (None, 128, 128, 16  0          ['conv2d_165[0][0]']             \n",
            " )                              )                                                                 \n",
            "                                                                                                  \n",
            " conv2d_166 (Conv2D)            (None, 128, 128, 32  4640        ['max_pooling2d_44[0][0]']       \n",
            "                                )                                                                 \n",
            "                                                                                                  \n",
            " dropout_80 (Dropout)           (None, 128, 128, 32  0           ['conv2d_166[0][0]']             \n",
            "                                )                                                                 \n",
            "                                                                                                  \n",
            " conv2d_167 (Conv2D)            (None, 128, 128, 32  9248        ['dropout_80[0][0]']             \n",
            "                                )                                                                 \n",
            "                                                                                                  \n",
            " max_pooling2d_45 (MaxPooling2D  (None, 64, 64, 32)  0           ['conv2d_167[0][0]']             \n",
            " )                                                                                                \n",
            "                                                                                                  \n",
            " conv2d_168 (Conv2D)            (None, 64, 64, 64)   18496       ['max_pooling2d_45[0][0]']       \n",
            "                                                                                                  \n",
            " dropout_81 (Dropout)           (None, 64, 64, 64)   0           ['conv2d_168[0][0]']             \n",
            "                                                                                                  \n",
            " conv2d_169 (Conv2D)            (None, 64, 64, 64)   36928       ['dropout_81[0][0]']             \n",
            "                                                                                                  \n",
            " max_pooling2d_46 (MaxPooling2D  (None, 32, 32, 64)  0           ['conv2d_169[0][0]']             \n",
            " )                                                                                                \n",
            "                                                                                                  \n",
            " conv2d_170 (Conv2D)            (None, 32, 32, 128)  73856       ['max_pooling2d_46[0][0]']       \n",
            "                                                                                                  \n",
            " dropout_82 (Dropout)           (None, 32, 32, 128)  0           ['conv2d_170[0][0]']             \n",
            "                                                                                                  \n",
            " conv2d_171 (Conv2D)            (None, 32, 32, 128)  147584      ['dropout_82[0][0]']             \n",
            "                                                                                                  \n",
            " max_pooling2d_47 (MaxPooling2D  (None, 16, 16, 128)  0          ['conv2d_171[0][0]']             \n",
            " )                                                                                                \n",
            "                                                                                                  \n",
            " conv2d_172 (Conv2D)            (None, 16, 16, 256)  295168      ['max_pooling2d_47[0][0]']       \n",
            "                                                                                                  \n",
            " dropout_83 (Dropout)           (None, 16, 16, 256)  0           ['conv2d_172[0][0]']             \n",
            "                                                                                                  \n",
            " conv2d_173 (Conv2D)            (None, 16, 16, 256)  590080      ['dropout_83[0][0]']             \n",
            "                                                                                                  \n",
            " conv2d_transpose_33 (Conv2DTra  (None, 32, 32, 128)  131200     ['conv2d_173[0][0]']             \n",
            " nspose)                                                                                          \n",
            "                                                                                                  \n",
            " concatenate_32 (Concatenate)   (None, 32, 32, 256)  0           ['conv2d_transpose_33[0][0]',    \n",
            "                                                                  'conv2d_171[0][0]']             \n",
            "                                                                                                  \n",
            " conv2d_174 (Conv2D)            (None, 32, 32, 128)  295040      ['concatenate_32[0][0]']         \n",
            "                                                                                                  \n",
            " dropout_84 (Dropout)           (None, 32, 32, 128)  0           ['conv2d_174[0][0]']             \n",
            "                                                                                                  \n",
            " conv2d_175 (Conv2D)            (None, 32, 32, 128)  147584      ['dropout_84[0][0]']             \n",
            "                                                                                                  \n",
            " conv2d_transpose_34 (Conv2DTra  (None, 64, 64, 64)  32832       ['conv2d_175[0][0]']             \n",
            " nspose)                                                                                          \n",
            "                                                                                                  \n",
            " concatenate_33 (Concatenate)   (None, 64, 64, 128)  0           ['conv2d_transpose_34[0][0]',    \n",
            "                                                                  'conv2d_169[0][0]']             \n",
            "                                                                                                  \n",
            " conv2d_176 (Conv2D)            (None, 64, 64, 64)   73792       ['concatenate_33[0][0]']         \n",
            "                                                                                                  \n",
            " dropout_85 (Dropout)           (None, 64, 64, 64)   0           ['conv2d_176[0][0]']             \n",
            "                                                                                                  \n",
            " conv2d_177 (Conv2D)            (None, 64, 64, 64)   36928       ['dropout_85[0][0]']             \n",
            "                                                                                                  \n",
            " conv2d_transpose_35 (Conv2DTra  (None, 128, 128, 32  8224       ['conv2d_177[0][0]']             \n",
            " nspose)                        )                                                                 \n",
            "                                                                                                  \n",
            " concatenate_34 (Concatenate)   (None, 128, 128, 64  0           ['conv2d_transpose_35[0][0]',    \n",
            "                                )                                 'conv2d_167[0][0]']             \n",
            "                                                                                                  \n",
            " conv2d_178 (Conv2D)            (None, 128, 128, 32  18464       ['concatenate_34[0][0]']         \n",
            "                                )                                                                 \n",
            "                                                                                                  \n",
            " dropout_86 (Dropout)           (None, 128, 128, 32  0           ['conv2d_178[0][0]']             \n",
            "                                )                                                                 \n",
            "                                                                                                  \n",
            " conv2d_179 (Conv2D)            (None, 128, 128, 32  9248        ['dropout_86[0][0]']             \n",
            "                                )                                                                 \n",
            "                                                                                                  \n",
            " conv2d_transpose_36 (Conv2DTra  (None, 256, 256, 16  2064       ['conv2d_179[0][0]']             \n",
            " nspose)                        )                                                                 \n",
            "                                                                                                  \n",
            " concatenate_35 (Concatenate)   (None, 256, 256, 32  0           ['conv2d_transpose_36[0][0]',    \n",
            "                                )                                 'conv2d_165[0][0]']             \n",
            "                                                                                                  \n",
            " conv2d_180 (Conv2D)            (None, 256, 256, 16  4624        ['concatenate_35[0][0]']         \n",
            "                                )                                                                 \n",
            "                                                                                                  \n",
            " dropout_87 (Dropout)           (None, 256, 256, 16  0           ['conv2d_180[0][0]']             \n",
            "                                )                                                                 \n",
            "                                                                                                  \n",
            " conv2d_181 (Conv2D)            (None, 256, 256, 16  2320        ['dropout_87[0][0]']             \n",
            "                                )                                                                 \n",
            "                                                                                                  \n",
            " conv2d_182 (Conv2D)            (None, 256, 256, 4)  68          ['conv2d_181[0][0]']             \n",
            "                                                                                                  \n",
            "==================================================================================================\n",
            "Total params: 1,940,868\n",
            "Trainable params: 1,940,868\n",
            "Non-trainable params: 0\n",
            "__________________________________________________________________________________________________\n"
          ]
        }
      ]
    }
  ]
}